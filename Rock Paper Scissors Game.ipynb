{
 "cells": [
  {
   "cell_type": "code",
   "execution_count": 5,
   "metadata": {},
   "outputs": [
    {
     "name": "stdout",
     "output_type": "stream",
     "text": [
      "You chose paper and Computer chose scissor.\n",
      "Computer wins!\n",
      "You chose scissor and Computer chose rock.\n",
      "Computer wins!\n",
      "You chose rock and Computer chose paper.\n",
      "Computer wins!\n",
      "You chose rock and Computer chose paper.\n",
      "Computer wins!\n",
      "You chose paper and Computer chose rock.\n",
      "You win!\n",
      "Game over!\n",
      "Good bye!\n"
     ]
    }
   ],
   "source": [
    "# Import random, creating a lapp to take inputs from user and play the game\n",
    "import random\n",
    "\n",
    "exit = False\n",
    "\n",
    "while (exit == False):\n",
    "    user = input(\"Enter rock, paper, scissor or exit if you wanna quit the game: \")\n",
    "\n",
    "    user.lower()\n",
    "\n",
    "    choices = [\"rock\", \"paper\", \"scissor\"]\n",
    "\n",
    "    computer = random.choice(choices)\n",
    "\n",
    "    if user == \"exit\":\n",
    "        print(\"Game over!\")\n",
    "        print(\"Good bye!\")\n",
    "        exit = True\n",
    "\n",
    "    elif user == \"rock\":\n",
    "        if computer == \"rock\":\n",
    "            print(\"Both You and Computer chose rock.\")\n",
    "            print(\"It's a tie!\")\n",
    "        elif computer == \"paper\":\n",
    "            print(\"You chose rock and Computer chose paper.\")\n",
    "            print(\"Computer wins!\")\n",
    "        else:\n",
    "            print(\"You chose rock and Computer chose scissor.\")\n",
    "            print(\"You win!\")\n",
    "        \n",
    "    elif user == \"paper\":\n",
    "        if computer == \"rock\":\n",
    "            print(\"You chose paper and Computer chose rock.\")\n",
    "            print(\"You win!\")\n",
    "        elif computer == \"paper\":\n",
    "            print(\"Both You and Computer chose paper.\")\n",
    "            print(\"It's a tie!\")\n",
    "        else:\n",
    "            print(\"You chose paper and Computer chose scissor.\")\n",
    "            print(\"Computer wins!\")\n",
    "\n",
    "    elif user == \"scissor\":\n",
    "        if computer == \"rock\":\n",
    "            print(\"You chose scissor and Computer chose rock.\")\n",
    "            print(\"Computer wins!\")\n",
    "        elif computer == \"paper\":\n",
    "            print(\"You chose scissor and Computer chose paper.\")\n",
    "            print(\"You win!\")\n",
    "        else:\n",
    "            print(\"Both You and Computer chose scissor.\")\n",
    "            print(\"It's a tie!\")\n"
   ]
  }
 ],
 "metadata": {
  "kernelspec": {
   "display_name": "Python 3",
   "language": "python",
   "name": "python3"
  },
  "language_info": {
   "codemirror_mode": {
    "name": "ipython",
    "version": 3
   },
   "file_extension": ".py",
   "mimetype": "text/x-python",
   "name": "python",
   "nbconvert_exporter": "python",
   "pygments_lexer": "ipython3",
   "version": "3.8.8"
  }
 },
 "nbformat": 4,
 "nbformat_minor": 2
}
